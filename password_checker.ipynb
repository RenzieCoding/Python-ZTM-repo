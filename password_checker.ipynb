{
 "cells": [
  {
   "cell_type": "code",
   "execution_count": 6,
   "metadata": {},
   "outputs": [
    {
     "name": "stdout",
     "output_type": "stream",
     "text": [
      "Hello Renzie! , your password ************ is 12 letters long\n"
     ]
    }
   ],
   "source": [
    "user_name =input('What is your name?')\n",
    "password = input('Please enter password:')\n",
    "password_asterisk_length = len(password)\n",
    "password_asterisk_format = '*' * password_asterisk_length\n",
    "print(f'Hello {user_name}! , your password {password_asterisk_format} is {password_asterisk_length} letters long' )"
   ]
  },
  {
   "cell_type": "markdown",
   "metadata": {},
   "source": [
    "## List Slicing"
   ]
  },
  {
   "cell_type": "code",
   "execution_count": 12,
   "metadata": {},
   "outputs": [
    {
     "name": "stdout",
     "output_type": "stream",
     "text": [
      "['gum', 'sunglasses', 'toys', 'grapes']\n",
      "['laptop', 'sunglasses', 'toys', 'grapes']\n"
     ]
    }
   ],
   "source": [
    "amazon_cart = [\n",
    "    'notebooks',\n",
    "    'sunglasses',\n",
    "    'toys',\n",
    "    'grapes'\n",
    "]\n",
    "\n",
    "amazon_cart[0] = 'laptop'\n",
    "#[start:stop:step]\n",
    "# if we want to copy a list then we do this '[:]'\n",
    "new_cart = amazon_cart[:]\n",
    "new_cart[0] = 'gum'\n",
    "print (new_cart)\n",
    "print(amazon_cart)"
   ]
  },
  {
   "cell_type": "markdown",
   "metadata": {},
   "source": [
    "# Markdown"
   ]
  },
  {
   "cell_type": "code",
   "execution_count": 13,
   "metadata": {},
   "outputs": [
    {
     "name": "stdout",
     "output_type": "stream",
     "text": [
      "6\n"
     ]
    }
   ],
   "source": [
    "#Matrix\n",
    "matrix =[\n",
    "          [1,2,3],\n",
    "          [2,4,6],\n",
    "          [7,8,9]\n",
    "]\n",
    "print(matrix[1][2])"
   ]
  },
  {
   "cell_type": "markdown",
   "metadata": {},
   "source": [
    "## List Methods"
   ]
  },
  {
   "cell_type": "code",
   "execution_count": 39,
   "metadata": {},
   "outputs": [
    {
     "name": "stdout",
     "output_type": "stream",
     "text": [
      "[1, 2, 3, 4, 100, 5, 100]\n",
      "None\n"
     ]
    }
   ],
   "source": [
    "basket =[1,2,3,4,5]\n",
    "\n",
    "#adding\n",
    "basket.insert(4,100)\n",
    "new_list = basket.extend([100])\n",
    "\n",
    "print(basket)\n",
    "\n",
    "\n",
    "#removing\n",
    "#new_list = basket.clear()\n",
    "print(new_list)\n"
   ]
  },
  {
   "cell_type": "markdown",
   "metadata": {},
   "source": [
    "## List methods 2"
   ]
  },
  {
   "cell_type": "code",
   "execution_count": 69,
   "metadata": {},
   "outputs": [
    {
     "name": "stdout",
     "output_type": "stream",
     "text": [
      "0\n"
     ]
    }
   ],
   "source": [
    "fruit_basket = ['a', 'b', 'c', 'd', 'e','d']\n",
    "print(fruit_basket.index('a',0,1))\n"
   ]
  },
  {
   "cell_type": "code",
   "execution_count": 122,
   "metadata": {},
   "outputs": [
    {
     "name": "stdout",
     "output_type": "stream",
     "text": [
      "['e', 'd', 'd', 'c', 'b', 'a']\n",
      "['e', 'd', 'd', 'c', 'b', 'a']\n",
      "['a', 'b', 'c', 'd', 'd', 'e']\n",
      "[99, 97, 95, 93, 91, 89, 87, 85, 83, 81, 79, 77, 75, 73, 71, 69, 67, 65, 63, 61, 59, 57, 55, 53, 51, 49, 47, 45, 43, 41, 39, 37, 35, 33, 31, 29, 27, 25, 23, 21, 19, 17, 15, 13, 11, 9, 7, 5, 3, 1]\n",
      "hielon muskmyelon musknameelon muskiselon muskJOJO\n"
     ]
    }
   ],
   "source": [
    "\n",
    "\n",
    "\n",
    "print(fruit_basket)\n",
    "fruit_basket.sort()\n",
    "fruit_basket.reverse()\n",
    "print(fruit_basket)\n",
    "print(fruit_basket[::-1])\n",
    "a= list(range(1,100,2))\n",
    "a.sort()\n",
    "a.reverse()\n",
    "print(a)\n",
    "\n",
    "\n",
    "new_sentence = \"elon musk\".join(['hi','my','name','is','JOJO'])\n",
    "print(new_sentence)"
   ]
  },
  {
   "cell_type": "markdown",
   "metadata": {},
   "source": [
    "## Dictionaries"
   ]
  },
  {
   "cell_type": "code",
   "execution_count": 129,
   "metadata": {},
   "outputs": [
    {
     "name": "stdout",
     "output_type": "stream",
     "text": [
      "5\n"
     ]
    }
   ],
   "source": [
    "dictionary ={\n",
    "    'a': list(range(1,100)),\n",
    "    'b': 'hello'\n",
    "}\n",
    "print(dictionary['a'][4dadadadadadasdas])"
   ]
  },
  {
   "cell_type": "code",
   "execution_count": 148,
   "metadata": {},
   "outputs": [
    {
     "name": "stdout",
     "output_type": "stream",
     "text": [
      "20\n",
      "{'name': 'John'}\n",
      "True\n",
      "False\n",
      "dict_items([('basket', [1, 2, 3]), ('greet', 'hello'), ('age', 20)])\n",
      "{}\n"
     ]
    }
   ],
   "source": [
    "\n",
    "#     user= {\n",
    "#      'basket':[1,2,3],\n",
    "#      'greet' : 'hello',\n",
    "#      'age' : 20\n",
    "#     }\n",
    "\n",
    "\n",
    "# user2 = dict(name = 'John')\n",
    "# print(user.get('age','oopsie'))\n",
    "# print(user2)\n",
    "# print('age' in user.keys())\n",
    "# print('1' in user.values())\n",
    "# print(user.items())\n",
    "# user.clear()\n",
    "# print(user)\n"
   ]
  },
  {
   "cell_type": "markdown",
   "metadata": {},
   "source": [
    "## Tuples"
   ]
  },
  {
   "cell_type": "code",
   "execution_count": 163,
   "metadata": {},
   "outputs": [
    {
     "name": "stdout",
     "output_type": "stream",
     "text": [
      "6\n"
     ]
    }
   ],
   "source": [
    "my_tuple = (1,2,3,4,5,5)\n",
    "print(len(my_tuple))"
   ]
  },
  {
   "cell_type": "markdown",
   "metadata": {},
   "source": [
    "## Sets"
   ]
  },
  {
   "cell_type": "code",
   "execution_count": 231,
   "metadata": {},
   "outputs": [
    {
     "name": "stdout",
     "output_type": "stream",
     "text": [
      "[4, 5]\n",
      "{1, 2, 3, 4, 5}\n"
     ]
    }
   ],
   "source": [
    "# set is an unordered collection of unique object\n",
    "my_set = {4,5,5}\n",
    "your_set = {4,5,6,7,8,9,10}\n",
    "new_set = my_set.copy()\n",
    "\n",
    "\n",
    "print(list(new_set))\n",
    "\n",
    "my_list = [1,2,3,4,5,5]\n",
    "#convert my_list into sets\n",
    "print(set(my_list))\n",
    "\n"
   ]
  },
  {
   "cell_type": "markdown",
   "metadata": {},
   "source": [
    "## Sets 2\n"
   ]
  },
  {
   "cell_type": "code",
   "execution_count": 222,
   "metadata": {},
   "outputs": [],
   "source": [
    "#print(your_set.difference(my_set))\n",
    "#my_set.discard(5)\n",
    "#my_set_cleared = my_set.copy()\n",
    "#convert_to_list_set =list(my_set_cleared)\n",
    "#popped_convert_to_list_set = \n",
    "#print(my_set_cleared)\n",
    "#print(convert_to_list_set.pop(1))"
   ]
  },
  {
   "cell_type": "code",
   "execution_count": 233,
   "metadata": {},
   "outputs": [
    {
     "name": "stdout",
     "output_type": "stream",
     "text": [
      "{4, 5, 6, 7, 8, 9, 10}\n",
      "True\n",
      "False\n",
      "True\n"
     ]
    }
   ],
   "source": [
    "# your_set -= my_set\n",
    "# print(your_set)\n",
    "# print(my_set.intersection(your_set))\n",
    "# print(my_set)\n",
    "#isdisjoint  means nothing in common\n",
    "# print(my_set.isdisjoint(your_set))\n",
    "print(my_set|your_set)\n",
    "print(my_set.issubset(your_set))\n",
    "print(my_set.issuperset(your_set))\n",
    "print(your_set.issuperset(my_set))"
   ]
  },
  {
   "cell_type": "markdown",
   "metadata": {},
   "source": [
    "# Python basics 2"
   ]
  },
  {
   "cell_type": "markdown",
   "metadata": {},
   "source": [
    "## Conditional Logic"
   ]
  },
  {
   "cell_type": "code",
   "execution_count": 250,
   "metadata": {},
   "outputs": [
    {
     "name": "stdout",
     "output_type": "stream",
     "text": [
      "you are old enough to drive, and you have a license!\n"
     ]
    }
   ],
   "source": [
    "is_old = True\n",
    "is_licensed = True\n",
    "\n",
    "if is_old and is_licensed:\n",
    "    print('you are old enough to drive, and you have a license!')\n",
    "\n",
    "else:\n",
    "    print('you are not of age')\n"
   ]
  },
  {
   "cell_type": "markdown",
   "metadata": {},
   "source": [
    "## Ternary Operator"
   ]
  },
  {
   "cell_type": "code",
   "execution_count": 249,
   "metadata": {},
   "outputs": [
    {
     "name": "stdout",
     "output_type": "stream",
     "text": [
      "message allowed\n"
     ]
    }
   ],
   "source": [
    "# condition_if_true if condition else condition_if_else\n",
    "is_friend = True\n",
    "can_message = \"message allowed\" if is_friend else \"not allowed to massage\"\n",
    "\n",
    "print(can_message)"
   ]
  },
  {
   "cell_type": "markdown",
   "metadata": {},
   "source": [
    "## Short Circuiting\n"
   ]
  },
  {
   "cell_type": "code",
   "execution_count": 255,
   "metadata": {},
   "outputs": [
    {
     "name": "stdout",
     "output_type": "stream",
     "text": [
      "best friends forever\n"
     ]
    }
   ],
   "source": [
    "is_Friend = True\n",
    "is_User = True\n",
    "\n",
    "if is_Friend and is_User:\n",
    "    print('best friends forever')\n",
    "else:\n",
    "    print('one needs fixing')"
   ]
  },
  {
   "cell_type": "markdown",
   "metadata": {},
   "source": [
    "## Logical Operators"
   ]
  },
  {
   "cell_type": "code",
   "execution_count": 260,
   "metadata": {},
   "outputs": [
    {
     "name": "stdout",
     "output_type": "stream",
     "text": [
      "False\n",
      "True\n",
      "False\n"
     ]
    }
   ],
   "source": [
    "print(4 == 5)\n",
    "#not\n",
    "print(not(False))\n",
    "print(not(1==1))"
   ]
  },
  {
   "cell_type": "markdown",
   "metadata": {},
   "source": [
    "## Exercise Logical Operators"
   ]
  },
  {
   "cell_type": "code",
   "execution_count": 271,
   "metadata": {},
   "outputs": [
    {
     "name": "stdout",
     "output_type": "stream",
     "text": [
      "at least you are getting there\n"
     ]
    }
   ],
   "source": [
    "is_magician = False\n",
    "is_expert =True\n",
    "\n",
    "# check if magician AND expert : \"you are a master magician\"\n",
    "if is_magician and is_expert:\n",
    "    print(\"you are a master magician\")\n",
    "\n",
    "\n",
    "# check if magician but not expert: \"at least you;re geting there\"\n",
    "elif is_magician and not is_expert:\n",
    "    print(\"at least you are getting there\")\n",
    "\n",
    "\n",
    "# if you're not a magician: \"You need magic powers\"\n",
    "elif not is_magician:\n",
    "       print(\"You need magic powers\")\n"
   ]
  },
  {
   "cell_type": "markdown",
   "metadata": {},
   "source": [
    "## is vs =="
   ]
  },
  {
   "cell_type": "code",
   "execution_count": 272,
   "metadata": {},
   "outputs": [
    {
     "name": "stdout",
     "output_type": "stream",
     "text": [
      "True\n",
      "False\n",
      "False\n",
      "True\n",
      "True\n"
     ]
    }
   ],
   "source": [
    "print(True == 1)\n",
    "print(\"\" == 1)\n",
    "print([] == 1)\n",
    "print(10 == 10.0)\n",
    "print([] == [])"
   ]
  },
  {
   "cell_type": "markdown",
   "metadata": {},
   "source": [
    "## For Loops"
   ]
  },
  {
   "cell_type": "code",
   "execution_count": 7,
   "metadata": {},
   "outputs": [
    {
     "name": "stdout",
     "output_type": "stream",
     "text": [
      "name Golem\n",
      "age 5006\n",
      "can_swim False\n",
      "('name', 'Golem')\n",
      "('age', 5006)\n",
      "('can_swim', False)\n",
      "('name', 'Golem')\n",
      "('age', 5006)\n",
      "('can_swim', False)\n"
     ]
    }
   ],
   "source": [
    "user = {\n",
    "    'name': 'Golem',\n",
    "    'age' : 5006,\n",
    "    'can_swim' : False\n",
    "}\n",
    "\n",
    "for a, b in user.items():\n",
    "    \n",
    "    print(a, b)\n",
    "\n",
    "for a in user.items():\n",
    "    \n",
    "    print(a)\n",
    "\n",
    "for a in user.items():\n",
    "    key,value = a\n",
    "    print(a)\n"
   ]
  },
  {
   "cell_type": "code",
   "execution_count": 283,
   "metadata": {},
   "outputs": [
    {
     "name": "stdout",
     "output_type": "stream",
     "text": [
      "1 a\n",
      "1 b\n",
      "1 c\n",
      "2 a\n",
      "2 b\n",
      "2 c\n",
      "3 a\n",
      "3 b\n",
      "3 c\n",
      "4 a\n",
      "4 b\n",
      "4 c\n",
      "5 a\n",
      "5 b\n",
      "5 c\n"
     ]
    }
   ],
   "source": [
    "# for item in (1,2,3,4,5):\n",
    "#     for x in ['a','b','c',]:\n",
    "#         print(item,x)\n",
    "        "
   ]
  },
  {
   "cell_type": "markdown",
   "metadata": {},
   "source": [
    "## Iterables"
   ]
  },
  {
   "cell_type": "code",
   "execution_count": 296,
   "metadata": {},
   "outputs": [],
   "source": [
    "#Iterabke - could be a list, dictionary, tuple, set, string\n",
    "#iterate -> one by one check each item in the collection\n",
    "\n"
   ]
  },
  {
   "cell_type": "markdown",
   "metadata": {},
   "source": [
    "## Exercise: Tricky Counter"
   ]
  },
  {
   "cell_type": "code",
   "execution_count": 12,
   "metadata": {},
   "outputs": [
    {
     "name": "stdout",
     "output_type": "stream",
     "text": [
      "1\n",
      "2\n",
      "3\n",
      "4\n",
      "5\n",
      "6\n",
      "7\n",
      "8\n",
      "9\n",
      "10\n",
      "55\n"
     ]
    }
   ],
   "source": [
    "#counter\n",
    "my_list = [1,2,3,4,5,6,7,8,9,10]\n",
    "\n",
    "\n",
    "counter = 0\n",
    "for item in my_list:\n",
    "    #for every item yung bilang \n",
    "    #yung counter = 0 para lang +1,+2,+3,+4,+5,+6,+7,+8,+9,+10\n",
    "    counter= counter + item\n",
    "    print(item)\n",
    "print(counter)\n"
   ]
  },
  {
   "cell_type": "markdown",
   "metadata": {},
   "source": [
    "## Range()"
   ]
  },
  {
   "cell_type": "code",
   "execution_count": 21,
   "metadata": {},
   "outputs": [
    {
     "name": "stdout",
     "output_type": "stream",
     "text": [
      "[0, 1, 2, 3, 4, 5, 6, 7, 8, 9]\n",
      "[0, 1, 2, 3, 4, 5, 6, 7, 8, 9]\n"
     ]
    }
   ],
   "source": [
    "for _ in range(2):\n",
    "    print(list(range(10)))   \n",
    "                      "
   ]
  },
  {
   "cell_type": "markdown",
   "metadata": {},
   "source": [
    "## Enumerate"
   ]
  },
  {
   "cell_type": "code",
   "execution_count": 329,
   "metadata": {},
   "outputs": [
    {
     "name": "stdout",
     "output_type": "stream",
     "text": [
      "0 1\n",
      "1 2\n",
      "2 3\n"
     ]
    }
   ],
   "source": [
    "# for i, char in enumerate('Helloooo'):\n",
    "#     print(i,char)\n",
    "#List example\n",
    "#for i, char in enumerate([1,2,3]):\n",
    " #   print(i,char)\n",
    "#Tuple\n",
    "for i, char in enumerate((1,2,3)):\n",
    "    print(i,char)"
   ]
  },
  {
   "cell_type": "code",
   "execution_count": 36,
   "metadata": {},
   "outputs": [
    {
     "name": "stdout",
     "output_type": "stream",
     "text": [
      "0 0\n",
      "1 1\n",
      "the index of 50 is 2\n",
      "2 2\n",
      "3 3\n",
      "4 4\n",
      "5 5\n",
      "6 6\n",
      "7 7\n",
      "8 8\n",
      "9 9\n",
      "10 10\n",
      "11 11\n",
      "12 12\n",
      "13 13\n",
      "14 14\n",
      "15 15\n",
      "16 16\n",
      "17 17\n",
      "18 18\n",
      "19 19\n",
      "20 20\n",
      "21 21\n",
      "22 22\n",
      "23 23\n",
      "24 24\n",
      "25 25\n",
      "26 26\n",
      "27 27\n",
      "28 28\n",
      "29 29\n",
      "30 30\n",
      "31 31\n",
      "32 32\n",
      "33 33\n",
      "34 34\n",
      "35 35\n",
      "36 36\n",
      "37 37\n",
      "38 38\n",
      "39 39\n",
      "40 40\n",
      "41 41\n",
      "42 42\n",
      "43 43\n",
      "44 44\n",
      "45 45\n",
      "46 46\n",
      "47 47\n",
      "48 48\n",
      "49 49\n",
      "50 50\n",
      "51 51\n",
      "52 52\n",
      "53 53\n",
      "54 54\n",
      "55 55\n",
      "56 56\n",
      "57 57\n",
      "58 58\n",
      "59 59\n",
      "60 60\n",
      "61 61\n",
      "62 62\n",
      "63 63\n",
      "64 64\n",
      "65 65\n",
      "66 66\n",
      "67 67\n",
      "68 68\n",
      "69 69\n",
      "70 70\n",
      "71 71\n",
      "72 72\n",
      "73 73\n",
      "74 74\n",
      "75 75\n",
      "76 76\n",
      "77 77\n",
      "78 78\n",
      "79 79\n",
      "80 80\n",
      "81 81\n",
      "82 82\n",
      "83 83\n",
      "84 84\n",
      "85 85\n",
      "86 86\n",
      "87 87\n",
      "88 88\n",
      "89 89\n",
      "90 90\n",
      "91 91\n",
      "92 92\n",
      "93 93\n",
      "94 94\n",
      "95 95\n",
      "96 96\n",
      "97 97\n",
      "98 98\n",
      "99 99\n"
     ]
    }
   ],
   "source": [
    "for i,char in enumerate(list(range(100))):\n",
    "    #print(i,char)\n",
    "    if i== 2:\n",
    "        print(f'the index of 50 is {i}')\n",
    "    print(i,char)"
   ]
  },
  {
   "cell_type": "markdown",
   "metadata": {},
   "source": [
    "# While Loops 1"
   ]
  },
  {
   "cell_type": "code",
   "execution_count": 33,
   "metadata": {},
   "outputs": [
    {
     "name": "stdout",
     "output_type": "stream",
     "text": [
      "0\n",
      "1\n",
      "2\n",
      "3\n",
      "4\n",
      "5\n",
      "6\n",
      "7\n",
      "8\n",
      "9\n",
      "10\n",
      "11\n",
      "12\n",
      "13\n",
      "14\n",
      "15\n",
      "16\n",
      "17\n",
      "18\n",
      "19\n",
      "20\n",
      "21\n",
      "22\n",
      "23\n",
      "24\n",
      "25\n",
      "26\n",
      "27\n",
      "28\n",
      "29\n",
      "30\n",
      "31\n",
      "32\n",
      "33\n",
      "34\n",
      "35\n",
      "36\n",
      "37\n",
      "38\n",
      "39\n",
      "40\n",
      "41\n",
      "42\n",
      "43\n",
      "44\n",
      "45\n",
      "46\n",
      "47\n",
      "48\n",
      "49\n",
      "done with all the work\n"
     ]
    }
   ],
   "source": [
    "i = 0\n",
    "\n",
    "while i < 50:\n",
    "    print(i)\n",
    "    i += 1\n",
    "  \n",
    "else:\n",
    "    print('done with all the work')\n",
    "   "
   ]
  },
  {
   "cell_type": "markdown",
   "metadata": {},
   "source": [
    "## While Loops 2"
   ]
  },
  {
   "cell_type": "code",
   "execution_count": null,
   "metadata": {},
   "outputs": [
    {
     "name": "stdout",
     "output_type": "stream",
     "text": [
      "1\n",
      "2\n",
      "3\n",
      "1\n",
      "2\n",
      "3\n"
     ]
    }
   ],
   "source": [
    "my_list_while_loops_2 = [1,2,3]\n",
    "\n",
    "for item in my_list_while_loops_2:\n",
    "    print(item)\n",
    "    pass\n",
    "\n",
    "i = 0\n",
    "while i < len(my_list_while_loops_2):\n",
    "    print(my_list_while_loops_2[i])\n",
    "    i += 1\n",
    "    continue\n",
    "\n",
    "\n",
    "   "
   ]
  },
  {
   "cell_type": "markdown",
   "metadata": {},
   "source": [
    "# Our First GUI"
   ]
  },
  {
   "cell_type": "code",
   "execution_count": 48,
   "metadata": {},
   "outputs": [
    {
     "name": "stdout",
     "output_type": "stream",
     "text": [
      "      $        \n",
      "    $ $ $      \n",
      "  $ $ $ $ $    \n",
      "$ $ $ $ $ $ $  \n",
      "      $        \n",
      "      $        \n",
      "      $        \n",
      "    $ $ $      \n",
      "  $ $ $ $ $    \n",
      "$ $ $ $ $ $ $  \n",
      "      $        \n",
      "      $        \n",
      "      $        \n",
      "    $ $ $      \n",
      "  $ $ $ $ $    \n",
      "$ $ $ $ $ $ $  \n",
      "      $        \n",
      "      $        \n"
     ]
    }
   ],
   "source": [
    "picture = [\n",
    "    [0,0,0,1,0,0,0],\n",
    "    [0,0,1,1,1,0,0],\n",
    "    [0,1,1,1,1,1,0],\n",
    "    [1,1,1,1,1,1,1],\n",
    "    [0,0,0,1,0,0,0],\n",
    "    [0,0,0,1,0,0,0]\n",
    "]\n",
    "\n",
    "def show_tree():\n",
    "    fill = '$'\n",
    "    empty =' '\n",
    "\n",
    "    for row in picture:\n",
    "        for pixel in row:\n",
    "\n",
    "\n",
    "            if (pixel):\n",
    "                print(fill,end = ' ')\n",
    "            else:\n",
    "                print(empty,end = ' ')\n",
    "        \n",
    "    \n",
    "        print(' ')  #remeber that the default of this print is a new line and an empty string is going to become a default new line\n",
    "show_tree()\n",
    "show_tree()\n",
    "show_tree()"
   ]
  },
  {
   "cell_type": "markdown",
   "metadata": {},
   "source": [
    "# Exercise: Find Duplicates"
   ]
  },
  {
   "cell_type": "code",
   "execution_count": null,
   "metadata": {},
   "outputs": [
    {
     "name": "stdout",
     "output_type": "stream",
     "text": [
      "[]\n"
     ]
    }
   ],
   "source": [
    "some_list =['a','b','c','d','m','n','n','b']\n",
    "\n",
    "duplicates = []\n",
    "for value in some_list:\n",
    "    if some_list.count(value) > 1:\n",
    "      if value not in duplicates:\n",
    "        duplicates.append(value)\n",
    "print(duplicates)\n",
    "\n",
    "duplicates = []"
   ]
  },
  {
   "cell_type": "markdown",
   "metadata": {},
   "source": [
    "# Functions"
   ]
  },
  {
   "cell_type": "code",
   "execution_count": 44,
   "metadata": {},
   "outputs": [
    {
     "name": "stdout",
     "output_type": "stream",
     "text": [
      "hello\n"
     ]
    }
   ],
   "source": [
    "def say_hello():\n",
    "    print('hello')\n",
    "\n",
    "say_hello()"
   ]
  },
  {
   "cell_type": "markdown",
   "metadata": {},
   "source": [
    "# Paramaters and Arguments"
   ]
  },
  {
   "cell_type": "code",
   "execution_count": 110,
   "metadata": {},
   "outputs": [
    {
     "name": "stdout",
     "output_type": "stream",
     "text": [
      "hello Renzie 😊 Ant\n",
      "hello Love 😊 dana\n",
      "hello Dana 🤣😊 dana Tanuecoz\n"
     ]
    }
   ],
   "source": [
    "#parameters\n",
    "#Default para\n",
    "def say_hello(name='Love', emoji='😊', name_2 =\"dana\"):\n",
    "    print(f'hello {name} {emoji} {name_2}')\n",
    "\n",
    "#positional arguments\n",
    "say_hello('Renzie','😊','Ant' )\n",
    "say_hello()\n",
    "\n",
    "#keyword arguments\n",
    "#this is not good practice\n",
    "say_hello(name ='Dana', emoji='🤣😊', name_2='dana Tanuecoz')"
   ]
  },
  {
   "cell_type": "markdown",
   "metadata": {},
   "source": [
    "# return"
   ]
  },
  {
   "cell_type": "code",
   "execution_count": 171,
   "metadata": {},
   "outputs": [
    {
     "name": "stdout",
     "output_type": "stream",
     "text": [
      "150\n"
     ]
    }
   ],
   "source": [
    "def my_sum(num1,num2,num3,num4,num5):\n",
    "    def another_func(num1,num2,num3,num4,num5):\n",
    "        return num1 + num2 + num3 + num4 + num5\n",
    "    return another_func(num1, num2, num3, num4, num5)\n",
    "#rule of thumb: a function should do one thing really well.\n",
    "#should return something\n",
    "\n",
    "total = my_sum(10,20,30,40,50)\n",
    "print(total)"
   ]
  },
  {
   "cell_type": "markdown",
   "metadata": {},
   "source": [
    "# Tesla"
   ]
  },
  {
   "cell_type": "code",
   "execution_count": 154,
   "metadata": {},
   "outputs": [
    {
     "name": "stdout",
     "output_type": "stream",
     "text": [
      "Sorry, you are too young to drive this car. Powering off\n"
     ]
    }
   ],
   "source": [
    "\n",
    "def checkDriverAge(age = 0):\n",
    "    if int(age) < 18:\n",
    "        print(\"Sorry, you are too young to drive this car. Powering off\")\n",
    "    elif int(age) > 18:\n",
    "        print(\"Powering On. Enjoy the ride!\");\n",
    "    elif int(age) == 18:\n",
    "        print(\"Congratulations on your first year of driving. Enjoy the ride!\")\n",
    "checkDriverAge()"
   ]
  },
  {
   "cell_type": "markdown",
   "metadata": {},
   "source": [
    "# Docstrings"
   ]
  },
  {
   "cell_type": "code",
   "execution_count": 155,
   "metadata": {},
   "outputs": [
    {
     "name": "stdout",
     "output_type": "stream",
     "text": [
      "Help on function test in module __main__:\n",
      "\n",
      "test(a)\n",
      "    Info : this function tests and prints param a\n",
      "\n",
      "\n",
      "    Info : this function tests and prints param a\n",
      "    \n"
     ]
    }
   ],
   "source": [
    "def test(a):\n",
    "    '''\n",
    "    Info : this function tests and prints param a\n",
    "    '''\n",
    "    print(a)\n",
    "\n",
    "help(test)\n",
    "\n",
    "print(test.__doc__)"
   ]
  },
  {
   "cell_type": "markdown",
   "metadata": {},
   "source": [
    "# Clean Code"
   ]
  },
  {
   "cell_type": "code",
   "execution_count": 156,
   "metadata": {},
   "outputs": [
    {
     "name": "stdout",
     "output_type": "stream",
     "text": [
      "False\n"
     ]
    }
   ],
   "source": [
    "# clean code\n",
    "def is_even(num):\n",
    "    return num % 2 == 0\n",
    "        \n",
    "    \n",
    "print(is_even(51))"
   ]
  },
  {
   "cell_type": "markdown",
   "metadata": {},
   "source": [
    "# *args **kwargs"
   ]
  },
  {
   "cell_type": "code",
   "execution_count": null,
   "metadata": {},
   "outputs": [
    {
     "name": "stdout",
     "output_type": "stream",
     "text": [
      "{'num1': 5, 'num2': 10}\n",
      "25\n"
     ]
    }
   ],
   "source": [
    "\n",
    "\n",
    "def super_func (*args,**kwargs):\n",
    "    total = 0\n",
    "    print(kwargs)\n",
    "    for  items in kwargs.values():\n",
    "        total += items\n",
    "    return sum(args) + total\n",
    "\n",
    "print(super_func(1,2,3,4, num1 = 5, num2 = 10))\n",
    "\n",
    "#Rule: params, * args, default parameters, **kwargs\n"
   ]
  },
  {
   "cell_type": "markdown",
   "metadata": {},
   "source": [
    "# Exercise: Functions"
   ]
  },
  {
   "cell_type": "code",
   "execution_count": 16,
   "metadata": {},
   "outputs": [
    {
     "name": "stdout",
     "output_type": "stream",
     "text": [
      "14\n"
     ]
    }
   ],
   "source": [
    "def highest_even(li):\n",
    "    evens = []\n",
    "    for item in li:\n",
    "        if item % 2 == 0:\n",
    "            evens.append(item)  \n",
    "    return max(evens)\n",
    "    \n",
    "    \n",
    "    \n",
    "\n",
    "print(highest_even([2,3,4,5,8,11,2,12,14,10]))\n"
   ]
  },
  {
   "cell_type": "markdown",
   "metadata": {},
   "source": [
    "# Walrus Operator"
   ]
  },
  {
   "cell_type": "code",
   "execution_count": 28,
   "metadata": {},
   "outputs": [
    {
     "name": "stdout",
     "output_type": "stream",
     "text": [
      "too long 12 elements\n",
      "12\n",
      "11\n",
      "10\n",
      "9\n",
      "8\n",
      "7\n",
      "6\n",
      "5\n",
      "4\n",
      "3\n",
      "2\n",
      "h\n"
     ]
    }
   ],
   "source": [
    "x = 'helloooooooo'\n",
    "\n",
    "if ((n := len(x)) > 10):\n",
    "  print(f'too long {n} elements')\n",
    "\n",
    "while ((n := len(x)) > 1):\n",
    "  print(n)\n",
    "  x = x[:-1]\n",
    "\n",
    "print(x)\n",
    "\n",
    "\n"
   ]
  },
  {
   "cell_type": "markdown",
   "metadata": {},
   "source": [
    "# Scope"
   ]
  },
  {
   "cell_type": "code",
   "execution_count": 78,
   "metadata": {},
   "outputs": [
    {
     "name": "stdout",
     "output_type": "stream",
     "text": [
      "inner: nonlocal\n",
      "outer: nonlocal\n"
     ]
    }
   ],
   "source": [
    "# Scope - waht variables do I have access to?\n",
    "#global scope\n",
    "def outer():\n",
    "   x = \"local\"\n",
    "   def inner():\n",
    "      nonlocal x\n",
    "      x = \"nonlocal\"\n",
    "      print(\"inner:\",x)\n",
    "    \n",
    "   inner()\n",
    "   print(\"outer:\",x)\n",
    "\n",
    "outer()\n"
   ]
  },
  {
   "cell_type": "markdown",
   "metadata": {},
   "source": [
    "# Objected Oriented Programming"
   ]
  },
  {
   "cell_type": "code",
   "execution_count": 181,
   "metadata": {},
   "outputs": [
    {
     "name": "stdout",
     "output_type": "stream",
     "text": [
      "My name is Tom, and I am 19 years old.\n"
     ]
    }
   ],
   "source": [
    "# class PlayerCharacter:\n",
    "#     membership = True #class object attribute, it is static\n",
    "#     def __init__(self, name='anonymous', age = 0 , hair_color = 'transparent', attack_rate = 0): # dunder method or a magic method/ also called a constructor method\n",
    "#         if (age > 18) :\n",
    "#             self._name = name#attributes\n",
    "#             self._age = age\n",
    "#             self._hair_color = hair_color\n",
    "#             self._attack_rate = attack_rate\n",
    "\n",
    "\n",
    "#     def shout(self):\n",
    "#         print(f'my name is {self.name}')\n",
    "#         return 'done'\n",
    "#     def display_attack_rate(self):\n",
    "#         print(f'my name is {self.attack_rate}')\n",
    "#         return 'done'\n",
    "#     def speak(self):\n",
    "#        return f'My name is {self._name}, and I am {self._age} years old.'\n",
    "        \n",
    "   \n",
    "#     @classmethod # with the decorator, we can now add a function\n",
    "#     def adding_things(cls,num1,num2):\n",
    "#         return cls('Teddy',num1 + num2,'red',90)\n",
    "    \n",
    "\n",
    "\n",
    "\n",
    "\n",
    "# player1 = PlayerCharacter('Tom',19,'burgundy',90) #instantiate means we are calling the class to create an object\n",
    "# player2 = PlayerCharacter('carla',23,'red',50)\n",
    "# player3 = PlayerCharacter.adding_things(20,21)\n",
    "\n",
    "\n",
    "\n",
    "# print(player1.speak())\n",
    "\n"
   ]
  },
  {
   "cell_type": "markdown",
   "metadata": {},
   "source": [
    "# Exercise: Cats Everywhere"
   ]
  },
  {
   "cell_type": "code",
   "execution_count": 164,
   "metadata": {},
   "outputs": [
    {
     "name": "stdout",
     "output_type": "stream",
     "text": [
      "Oldest Cat is  31 years old.\n"
     ]
    }
   ],
   "source": [
    "#Given the below class:\n",
    "class Cat:\n",
    "    species = 'mammal'\n",
    "    def __init__(self, name, age):\n",
    "        self.name = name\n",
    "        self.age = age\n",
    "\n",
    "def find_oldest_cat(*args):\n",
    "    return max(args)\n",
    "    \n",
    "\n",
    "\n",
    "cat1 = Cat('Junmark',31)\n",
    "cat2 = Cat('Renzie',29)\n",
    "cat3 = Cat('Anton',28)\n",
    "\n",
    "\n",
    "print(f'Oldest Cat is  {find_oldest_cat(cat1.age,cat2,cat3)} years old.')\n"
   ]
  },
  {
   "cell_type": "markdown",
   "metadata": {},
   "source": [
    "# Encapsulation"
   ]
  },
  {
   "cell_type": "code",
   "execution_count": null,
   "metadata": {},
   "outputs": [],
   "source": [
    "# encapsulation means the binding of data and functions that manipulate that data\n",
    "\n"
   ]
  },
  {
   "cell_type": "markdown",
   "metadata": {},
   "source": [
    "# Inheritance"
   ]
  },
  {
   "cell_type": "code",
   "execution_count": 30,
   "metadata": {},
   "outputs": [
    {
     "name": "stdout",
     "output_type": "stream",
     "text": [
      "28 remaining with email: danatanuecoz@gmail.com\n"
     ]
    }
   ],
   "source": [
    "#Users\n",
    "\n",
    "# class User(object):\n",
    "#     def __init__(self, email):\n",
    "#         self.email = email\n",
    "#     def sign_in(self):\n",
    "#         return 'logged in'\n",
    "    \n",
    "#     def attack(self):\n",
    "#       return 'do nothing'\n",
    "#     #   print('do nothing')\n",
    "\n",
    "# class Wizard(User):\n",
    "#     def __init__(self, name, power,email):\n",
    "#         super().__init__(email)\n",
    "#         self.name = name\n",
    "#         self.power = power\n",
    "#         self.email = email\n",
    "    \n",
    "#     def attack(self):\n",
    "       \n",
    "#         print(f'attacking with power of {self.power}')\n",
    "\n",
    "# class Archer(User):\n",
    "#     def __init__(self, name, num_arrows,email):\n",
    "#         super().__init__(email)\n",
    "#         self.name = name\n",
    "#         self.num_arrows = num_arrows\n",
    "        \n",
    "      \n",
    "\n",
    "#     def chec_arrows(self):\n",
    "#         print(f'{self.num_arrows} remaining')\n",
    "\n",
    "#     def run(self):\n",
    "#         print('ran really fast')\n",
    "\n",
    "\n",
    "# class HybridBorg(Wizard, Archer):\n",
    "#     def __init__(self, name, power,email,num_arrows):\n",
    "#         super().__init__( name, power, email)\n",
    "#         Archer.__init__(self, name, num_arrows, email)\n",
    "\n",
    "\n",
    "\n",
    "# Hb1 = HybridBorg('Renzie', 18,'anton@gmail.com',20)\n",
    "# wizard1 = Wizard('Merlin', 50,'merlin@gmail.com')\n",
    "# archer1 = Archer('Robin',200,'renziereyes31@gmail.com')\n",
    "\n",
    "# print(Hb1.run())\n",
    "\n",
    "class User(object):\n",
    "    def __init__(self, email):\n",
    "        self.email = email\n",
    "        print('init complete')\n",
    "        \n",
    "    def sign_in(self):\n",
    "        return 'logged in'\n",
    "    \n",
    "    def attack(self):\n",
    "        return 'do nothing'\n",
    "\n",
    "class Wizard(User):\n",
    "    def __init__(self, name, power,email):\n",
    "        self.email = email\n",
    "        self.name = name\n",
    "        self.power = power\n",
    "\n",
    "    def attack(self):\n",
    "        return f'attacking with power of {self.power} with email: {self.email}'\n",
    "\n",
    "class Archer(User):\n",
    "    def __init__(self, name, num_arrows,email):\n",
    "        self.email = email\n",
    "        self.name = name\n",
    "        self.num_arrows = num_arrows\n",
    "\n",
    "    def check_arrows(self):\n",
    "        return f'{self.num_arrows} remaining with email: {self.email}'\n",
    "\n",
    "    def run(self):\n",
    "        return 'ran really fast'\n",
    "\n",
    "class HybridBorg(Wizard, Archer):\n",
    "    def __init__(self, name, power, num_arrows,email):\n",
    "        Archer.__init__(self, name, num_arrows,email)\n",
    "        Wizard.__init__(self, name, power,email)\n",
    "\n",
    "\n",
    "Hb1 = HybridBorg('Renzie', 18, 100,'renziereyes31@gmail.com')\n",
    "\n",
    "Wizard1= Wizard('Renzie', 18,'renziereyes31@gmail.com')\n",
    "\n",
    "Archer1 = Archer('Dana', 28,'danatanuecoz@gmail.com')\n",
    "print(Archer1.check_arrows())  # Output: ran really fast\n",
    "\n",
    "\n",
    "\n",
    "\n",
    "\n",
    "\n",
    "\n"
   ]
  },
  {
   "cell_type": "code",
   "execution_count": null,
   "metadata": {},
   "outputs": [],
   "source": []
  },
  {
   "cell_type": "markdown",
   "metadata": {},
   "source": [
    "# Pets Everywhere"
   ]
  },
  {
   "cell_type": "code",
   "execution_count": null,
   "metadata": {},
   "outputs": [
    {
     "name": "stdout",
     "output_type": "stream",
     "text": [
      "Simon sings meow\n",
      "Sally sings grrr\n",
      "Molly sings hohooho\n",
      "Simon is just walking around\n",
      "Sally is just walking around\n",
      "Molly is just walking around\n"
     ]
    }
   ],
   "source": [
    "class Pets():\n",
    "    animals = []\n",
    "    def __init__(self, animals):\n",
    "        self.animals = animals\n",
    "        \n",
    "\n",
    "    def walk(self):\n",
    "        for animal in self.animals:\n",
    "            print(animal.walk())\n",
    "\n",
    "    def sing(self):\n",
    "        for animal in self.animals:\n",
    "            print(animal.sing())\n",
    "\n",
    "class Cat():\n",
    "    is_lazy = True\n",
    "\n",
    "    def __init__(self, name, age, sounds):\n",
    "        self.name = name\n",
    "        self.age = age\n",
    "        self.sounds = sounds\n",
    "\n",
    "    def walk(self):\n",
    "        return f'{self.name} is just walking around'\n",
    "\n",
    "class Simon(Cat):\n",
    "    def sing(self):\n",
    "        return f'{self.name} sings {self.sounds}'\n",
    "\n",
    "class Sally(Cat):\n",
    "    def sing(self):\n",
    "        return f'{self.name} sings {self.sounds}'\n",
    "\n",
    "class Molly(Cat):\n",
    "    def sing(self):\n",
    "        return f'{self.name} sings {self.sounds}'\n",
    "    \n",
    "my_cats = []\n",
    "\n",
    "Cat_1 = Simon('Simon',21,'meow')\n",
    "Cat_2 = Sally('Sally',22,'grrr')\n",
    "Cat_3 = Molly('Molly',23,'hohooho')\n",
    "\n",
    "my_cats.append(Cat_1)\n",
    "my_cats.append(Cat_2)\n",
    "my_cats.append(Cat_3)\n",
    "\n",
    "my_pets_sing = Pets(my_cats).sing()\n",
    "my_pets_walk = Pets(my_cats).walk()\n",
    "\n",
    "\n",
    "\n",
    "\n",
    "\n",
    "\n"
   ]
  },
  {
   "cell_type": "markdown",
   "metadata": {},
   "source": []
  },
  {
   "cell_type": "markdown",
   "metadata": {},
   "source": [
    "# Dunder Methods"
   ]
  },
  {
   "cell_type": "code",
   "execution_count": 312,
   "metadata": {},
   "outputs": [
    {
     "name": "stdout",
     "output_type": "stream",
     "text": [
      "red\n",
      "red\n",
      "yes?\n",
      "Yoyo\n"
     ]
    }
   ],
   "source": [
    "class Toy():\n",
    "    def __init__(self,color, age ):\n",
    "        self.color = color\n",
    "        self.age = age\n",
    "        self.my_dict = {\n",
    "            'name':'Yoyo',\n",
    "            'has_pets':False\n",
    "        }\n",
    "\n",
    "    def __str__(self):\n",
    "        return f'{self.color}'\n",
    "    \n",
    "    def __call__(self):\n",
    "        return ('yes?')\n",
    "    \n",
    "    def __getitem__(self,i):\n",
    "        return self.my_dict[i]\n",
    "\n",
    "action_figure = Toy('red',0)\n",
    "print(action_figure.__str__())\n",
    "print(str(action_figure))\n",
    "print(action_figure())\n",
    "print(action_figure['name'])\n"
   ]
  },
  {
   "cell_type": "markdown",
   "metadata": {},
   "source": [
    "# Exercise: extending List"
   ]
  },
  {
   "cell_type": "code",
   "execution_count": 329,
   "metadata": {},
   "outputs": [
    {
     "name": "stdout",
     "output_type": "stream",
     "text": [
      "5\n",
      "1000\n",
      "[5, 6]\n",
      "True\n",
      "5\n"
     ]
    }
   ],
   "source": [
    "\n",
    "variable_text = 'hello'\n",
    "print(len(variable_text))\n",
    "\n",
    "\n",
    "class SuperList(list):\n",
    "    def __len__(self):\n",
    "        return 1000\n",
    "    \n",
    "super_list1 = SuperList();\n",
    "\n",
    "print(len(super_list1))\n",
    "super_list1.append(5)\n",
    "super_list1.append(6)\n",
    "print(super_list1)\n",
    "print(issubclass(SuperList,list))\n",
    "\n",
    "variable_text_1 = 'hello'\n",
    "print(len(variable_text_1))"
   ]
  },
  {
   "cell_type": "markdown",
   "metadata": {},
   "source": [
    "# MRO"
   ]
  },
  {
   "cell_type": "code",
   "execution_count": 36,
   "metadata": {},
   "outputs": [
    {
     "name": "stdout",
     "output_type": "stream",
     "text": [
      "[<class '__main__.M'>, <class '__main__.B'>, <class '__main__.A'>, <class '__main__.X'>, <class '__main__.Y'>, <class '__main__.Z'>, <class 'object'>]\n"
     ]
    }
   ],
   "source": [
    "class X:pass\n",
    "class Y:pass\n",
    "class Z:pass\n",
    "class A(X,Y): pass\n",
    "class B(Y,Z): pass\n",
    "class M(B,A,Z):pass\n",
    "\n",
    "print(M.mro())"
   ]
  },
  {
   "cell_type": "markdown",
   "metadata": {},
   "source": [
    "# Pure Functions"
   ]
  },
  {
   "cell_type": "code",
   "execution_count": null,
   "metadata": {},
   "outputs": [
    {
     "ename": "NameError",
     "evalue": "name 'li' is not defined",
     "output_type": "error",
     "traceback": [
      "\u001b[1;31m---------------------------------------------------------------------------\u001b[0m",
      "\u001b[1;31mNameError\u001b[0m                                 Traceback (most recent call last)",
      "Cell \u001b[1;32mIn[56], line 12\u001b[0m\n\u001b[0;32m      9\u001b[0m         new_list\u001b[38;5;241m.\u001b[39mappend(item\u001b[38;5;241m*\u001b[39m\u001b[38;5;241m2\u001b[39m)\n\u001b[0;32m     10\u001b[0m     \u001b[38;5;28;01mreturn\u001b[39;00m new_list\n\u001b[1;32m---> 12\u001b[0m \u001b[38;5;28mprint\u001b[39m(\u001b[43mattack\u001b[49m\u001b[43m(\u001b[49m\u001b[43m[\u001b[49m\u001b[38;5;241;43m1\u001b[39;49m\u001b[43m,\u001b[49m\u001b[38;5;241;43m2\u001b[39;49m\u001b[43m,\u001b[49m\u001b[38;5;241;43m3\u001b[39;49m\u001b[43m]\u001b[49m\u001b[43m)\u001b[49m)\n",
      "Cell \u001b[1;32mIn[56], line 8\u001b[0m, in \u001b[0;36mattack\u001b[1;34m(character)\u001b[0m\n\u001b[0;32m      6\u001b[0m \u001b[38;5;28;01mdef\u001b[39;00m \u001b[38;5;21mattack\u001b[39m(character):\n\u001b[0;32m      7\u001b[0m     new_list \u001b[38;5;241m=\u001b[39m[]\n\u001b[1;32m----> 8\u001b[0m     \u001b[38;5;28;01mfor\u001b[39;00m item \u001b[38;5;129;01min\u001b[39;00m \u001b[43mli\u001b[49m:\n\u001b[0;32m      9\u001b[0m         new_list\u001b[38;5;241m.\u001b[39mappend(item\u001b[38;5;241m*\u001b[39m\u001b[38;5;241m2\u001b[39m)\n\u001b[0;32m     10\u001b[0m     \u001b[38;5;28;01mreturn\u001b[39;00m new_list\n",
      "\u001b[1;31mNameError\u001b[0m: name 'li' is not defined"
     ]
    }
   ],
   "source": [
    "# we must contain our functions and make them pure to avoid errors"
   ]
  },
  {
   "cell_type": "markdown",
   "metadata": {},
   "source": [
    "# Map"
   ]
  },
  {
   "cell_type": "code",
   "execution_count": 112,
   "metadata": {},
   "outputs": [
    {
     "name": "stdout",
     "output_type": "stream",
     "text": [
      "[2, 4, 6, 8]\n",
      "[2, 4, 6, 8]\n"
     ]
    }
   ],
   "source": [
    "#map,filter,zip, and reduce\n",
    "# wioth maps, creation of blank list is no longer needed\n",
    "from functools import reduce\n",
    "\n",
    "my_list = [1,2,3,4]\n",
    "\n",
    "def multiply_by2(item):\n",
    "    # new_list = []\n",
    "    # for item in li:\n",
    "    #     new_list.append(item*2)\n",
    "    # return new_list\n",
    "    return item*2\n",
    "\n",
    "#filter()\n",
    "def only_odd(item):\n",
    "    return item % 2 != 0 \n",
    "\n",
    "def accumulator(acc, item):\n",
    "    print(acc,item)\n",
    "    return acc + item\n",
    "\n",
    "\n",
    "print(list(map(multiply_by2,my_list)))\n",
    "\n",
    "print(list(map(lambda item: item*2 ,my_list)))\n",
    "\n"
   ]
  },
  {
   "cell_type": "markdown",
   "metadata": {},
   "source": [
    "# Exercise:map, filter, zip, reduce"
   ]
  },
  {
   "cell_type": "code",
   "execution_count": 108,
   "metadata": {},
   "outputs": [
    {
     "name": "stdout",
     "output_type": "stream",
     "text": [
      "['Sisi', 'Bibi', 'Titi', 'Carla']\n",
      "[1, 2, 3, 4, 5]\n",
      "[('a', 1), ('b', 2), ('c', 3), ('d', 4), ('e', 5)]\n",
      "[73, 65, 76, 100, 88]\n",
      "The total is 456\n"
     ]
    }
   ],
   "source": [
    "\n",
    "\n",
    "#1 Capitalize all of the pet names and print the list\n",
    "my_pets = ['sisi', 'bibi', 'titi', 'carla']\n",
    "\n",
    "def capitalized_pet_names(item):\n",
    "    return item.capitalize()\n",
    "    \n",
    "print(list(map(capitalized_pet_names,my_pets)))\n",
    "\n",
    "\n",
    "\n",
    "#2 Zip the 2 lists into a list of tuples, but sort the numbers from lowest to highest.\n",
    "my_strings = ['a', 'b', 'c', 'd', 'e']\n",
    "my_numbers = [5,4,3,2,1]\n",
    "sorted_my_numbers = sorted(my_numbers)\n",
    "print(sorted_my_numbers)\n",
    "\n",
    "\n",
    "\n",
    "\n",
    "print(list(zip(my_strings,sorted_my_numbers)))\n",
    "\n",
    "#3 Filter the scores that pass over 50%\n",
    "scores = [73, 20, 65, 19, 76, 100, 88]\n",
    "\n",
    "def check_over_50(item):\n",
    "    return item > 50\n",
    "\n",
    "print(list(filter(check_over_50,scores)))\n",
    "\n",
    "\n",
    "#4 Combine all of the numbers that are in a list on this file using reduce (my_numbers and scores). What is the total?\n",
    "combined_lists = my_numbers + scores\n",
    "\n",
    "\n",
    "def add_the_numbers_in_the_file(acc,item):\n",
    "    return acc + item\n",
    "\n",
    "total_combined_lists = reduce(add_the_numbers_in_the_file,combined_lists)\n",
    "\n",
    "\n",
    "print(f'The total is {total_combined_lists}')"
   ]
  },
  {
   "cell_type": "markdown",
   "metadata": {},
   "source": [
    "# lambda expressions"
   ]
  },
  {
   "cell_type": "code",
   "execution_count": null,
   "metadata": {},
   "outputs": [],
   "source": [
    "#you dont need more than once\n",
    "#anonymous function "
   ]
  },
  {
   "cell_type": "markdown",
   "metadata": {},
   "source": [
    "# Exercise: Lambda Expressions"
   ]
  },
  {
   "cell_type": "code",
   "execution_count": 115,
   "metadata": {},
   "outputs": [
    {
     "name": "stdout",
     "output_type": "stream",
     "text": [
      "[25, 16, 9]\n",
      "[(0, 2), (4, 3), (9, 9), (10, -1)]\n"
     ]
    }
   ],
   "source": [
    "my_list_squared =[5,4,3]\n",
    "#Square\n",
    "print( list(map(lambda item : item ** 2,my_list_squared )))\n",
    "\n",
    "#List Sorting\n",
    "\n",
    "a = [(0,2),(4,3),(9,9),(10,-1)]\n",
    "a.sort(key = lambda item: item[0] )\n",
    "print(a)\n"
   ]
  },
  {
   "cell_type": "markdown",
   "metadata": {},
   "source": [
    "# List Comprehension"
   ]
  },
  {
   "cell_type": "code",
   "execution_count": 135,
   "metadata": {},
   "outputs": [
    {
     "name": "stdout",
     "output_type": "stream",
     "text": [
      "{'o', 'e', 'l', 'h'}\n",
      "{0, 1, 2, 3, 4, 5, 6, 7, 8, 9, 10, 11, 12, 13, 14, 15, 16, 17, 18, 19, 20, 21, 22, 23, 24, 25, 26, 27, 28, 29, 30, 31, 32, 33, 34, 35, 36, 37, 38, 39, 40, 41, 42, 43, 44, 45, 46, 47, 48, 49, 50, 51, 52, 53, 54, 55, 56, 57, 58, 59, 60, 61, 62, 63, 64, 65, 66, 67, 68, 69, 70, 71, 72, 73, 74, 75, 76, 77, 78, 79, 80, 81, 82, 83, 84, 85, 86, 87, 88, 89, 90, 91, 92, 93, 94, 95, 96, 97, 98, 99}\n",
      "{0, 2, 4, 6, 8, 10, 12, 14, 16, 18, 20, 22, 24, 26, 28, 30, 32, 34, 36, 38, 40, 42, 44, 46, 48, 50, 52, 54, 56, 58, 60, 62, 64, 66, 68, 70, 72, 74, 76, 78, 80, 82, 84, 86, 88, 90, 92, 94, 96, 98, 100, 102, 104, 106, 108, 110, 112, 114, 116, 118, 120, 122, 124, 126, 128, 130, 132, 134, 136, 138, 140, 142, 144, 146, 148, 150, 152, 154, 156, 158, 160, 162, 164, 166, 168, 170, 172, 174, 176, 178, 180, 182, 184, 186, 188, 190, 192, 194, 196, 198}\n",
      "{0, 1, 1024, 4096, 4, 9216, 9, 16, 529, 3600, 4624, 25, 36, 2601, 49, 7225, 3136, 64, 576, 1089, 1600, 2116, 5184, 6724, 7744, 9801, 81, 8281, 6241, 100, 625, 121, 4225, 1156, 8836, 3721, 144, 1681, 2704, 5776, 4761, 2209, 676, 169, 3249, 9409, 196, 1225, 5329, 729, 225, 1764, 7396, 6889, 7921, 2809, 256, 2304, 6400, 3844, 4356, 784, 1296, 8464, 289, 3364, 4900, 5929, 1849, 9025, 324, 841, 1369, 2401, 2916, 5476, 361, 3969, 900, 9604, 4489, 400, 1936, 7056, 7569, 3481, 6561, 1444, 8100, 5041, 441, 961, 2500, 6084, 8649, 3025, 484, 2025, 1521, 5625}\n",
      "{0, 256, 1024, 2304, 4, 900, 1156, 3844, 4096, 4356, 8836, 9604, 16, 144, 400, 784, 1296, 1936, 2704, 3600, 4624, 5776, 9216, 36, 676, 1444, 3364, 4900, 8100, 7056, 7744, 64, 576, 1600, 3136, 196, 324, 2116, 2500, 5184, 6084, 6400, 6724, 8464, 100, 484, 1764, 2916, 5476, 7396}\n",
      "{'a': 1, 'b': 4}\n",
      "{1: 2, 2: 4, 3: 6}\n"
     ]
    }
   ],
   "source": [
    "#list, set, dictionary\n",
    "\n",
    "# my_list_comprehensions = []\n",
    "\n",
    "# for char in 'hello':\n",
    "#     my_list_comprehensions.append(char)\n",
    "\n",
    "my_list_comprehensions = {char for char in 'hello'}\n",
    "my_list_comprehensions_2 = {number for number in range(0,100)}\n",
    "my_list_comprehensions_3 = {num*2 for num in range(0,100)}\n",
    "my_list_comprehensions_4 = {num**2 for num in range(0,100)}\n",
    "my_list_comprehensions_5 = {num**2  for num in range(0,100)\n",
    "                            if num% 2 == 0} #even ones\n",
    "\n",
    "\n",
    "print(my_list_comprehensions)\n",
    "print(my_list_comprehensions_2)\n",
    "print(my_list_comprehensions_3)\n",
    "print(my_list_comprehensions_4)\n",
    "print(my_list_comprehensions_5)\n",
    "\n",
    "simple_dictionary = {\n",
    "    'a' : 1,\n",
    "    'b' : 2\n",
    "}\n",
    "my_dict_comprehension = {k:v**2 for k,v in simple_dictionary.items()}\n",
    "\n",
    "print(my_dict_comprehension)\n",
    "\n",
    "\n",
    "my_dict_comprehension_2 = {num:num*2 for num in [1,2,3]}\n",
    "print(my_dict_comprehension_2)"
   ]
  },
  {
   "cell_type": "markdown",
   "metadata": {},
   "source": [
    "# Exercise List Comprehensions"
   ]
  },
  {
   "cell_type": "code",
   "execution_count": 1,
   "metadata": {},
   "outputs": [
    {
     "name": "stdout",
     "output_type": "stream",
     "text": [
      "['b', 'n']\n"
     ]
    }
   ],
   "source": [
    "some_list_exercise = ['a','b','c','b','d','m','n','n']\n",
    "\n",
    "count_dict = {item:some_list_exercise.count(item) for item in some_list_exercise}\n",
    "duplicates_from_some_list_exercise = [k for k,v in count_dict.items() if v > 1]\n",
    "\n",
    "print(duplicates_from_some_list_exercise)"
   ]
  },
  {
   "cell_type": "markdown",
   "metadata": {},
   "source": [
    "# Advanced Python: Decorators"
   ]
  },
  {
   "cell_type": "code",
   "execution_count": 2,
   "metadata": {},
   "outputs": [
    {
     "name": "stdout",
     "output_type": "stream",
     "text": [
      "still here\n",
      "None\n"
     ]
    }
   ],
   "source": [
    "def hello(func):\n",
    "    func()\n",
    "\n",
    "def greet():\n",
    "    print('still here')\n",
    "\n",
    "a = hello(greet)\n",
    "\n",
    "print(a)\n",
    "\n"
   ]
  },
  {
   "cell_type": "markdown",
   "metadata": {},
   "source": [
    "# My Decorator"
   ]
  },
  {
   "cell_type": "code",
   "execution_count": 6,
   "metadata": {},
   "outputs": [
    {
     "name": "stdout",
     "output_type": "stream",
     "text": [
      "*******\n",
      "helllo\n",
      "*******\n"
     ]
    }
   ],
   "source": [
    "def my_decorator(func):\n",
    "    def wrap_func():\n",
    "        print('*******')\n",
    "        func()\n",
    "        print('*******')\n",
    "    return wrap_func()\n",
    "        \n",
    "@my_decorator\n",
    "def hello():\n",
    "    print('helllo')"
   ]
  },
  {
   "cell_type": "code",
   "execution_count": null,
   "metadata": {},
   "outputs": [],
   "source": []
  }
 ],
 "metadata": {
  "kernelspec": {
   "display_name": "Python 3",
   "language": "python",
   "name": "python3"
  },
  "language_info": {
   "codemirror_mode": {
    "name": "ipython",
    "version": 3
   },
   "file_extension": ".py",
   "mimetype": "text/x-python",
   "name": "python",
   "nbconvert_exporter": "python",
   "pygments_lexer": "ipython3",
   "version": "3.12.2"
  }
 },
 "nbformat": 4,
 "nbformat_minor": 2
}
